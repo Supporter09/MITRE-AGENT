{
 "cells": [
  {
   "cell_type": "code",
   "execution_count": 14,
   "id": "07cf996e",
   "metadata": {},
   "outputs": [],
   "source": [
    "import os\n",
    "import json\n",
    "from langchain_core.documents import Document\n",
    "from mem0 import MemoryClient\n",
    "from utils.utils import *"
   ]
  },
  {
   "cell_type": "code",
   "execution_count": 15,
   "id": "f2a04eff",
   "metadata": {},
   "outputs": [],
   "source": [
    "# Get the API key from environment variables\n",
    "os.environ[\"MEM0_API_KEY\"] = os.environ.get(\"MEM0_API_KEY\")\n",
    "os.environ[\"OPENAI_API_KEY\"] = os.environ.get(\"OPENAI_API_KEY\")\n",
    "\n",
    "mem0_client = MemoryClient()"
   ]
  },
  {
   "cell_type": "code",
   "execution_count": 16,
   "id": "48238e54",
   "metadata": {},
   "outputs": [],
   "source": [
    "mem0_collection: str = \"mitre_attack\""
   ]
  },
  {
   "cell_type": "code",
   "execution_count": 23,
   "id": "da31dcfc",
   "metadata": {},
   "outputs": [],
   "source": [
    "def initialize_attack_db(attack_data_path):\n",
    "    \"\"\"Initialize the MITRE ATT&CK vector database\"\"\"\n",
    "\n",
    "    print(\"Loading MITRE ATT&CK data...\")\n",
    "\n",
    "    # Specify encoding='utf-8' to handle potential unicode characters\n",
    "    with open(attack_data_path, \"r\", encoding='utf-8') as f:\n",
    "\n",
    "        attack_data = json.load(f)\n",
    "\n",
    "    documents = []\n",
    "    ids = []\n",
    "\n",
    "    for i, technique in enumerate(attack_data.get(\"objects\", [])):\n",
    "        if technique.get(\"type\") == \"attack-pattern\":\n",
    "\n",
    "            technique_id = technique.get(\"external_references\", [{}])[0].get(\n",
    "                \"external_id\", \"\"\n",
    "            )\n",
    "\n",
    "            if not technique_id.startswith(\"T\"):\n",
    "                continue\n",
    "\n",
    "            name = technique.get(\"name\", \"\")\n",
    "            description = technique.get(\"description\", \"\")\n",
    "            tactics = [\n",
    "                phase[\"phase_name\"] for phase in technique.get(\"kill_chain_phases\", [])\n",
    "            ]\n",
    "            platforms = technique.get(\"x_mitre_platforms\", [])\n",
    "            detection = technique.get(\"x_mitre_detection\", \"\")\n",
    "            data_sources = technique.get(\"x_mitre_data_sources\", [])\n",
    "\n",
    "            name = clean_text(name)\n",
    "            description = clean_text(description)\n",
    "            detection = clean_text(detection)\n",
    "\n",
    "            content = f\"\"\"\n",
    "                # {technique_id}: {name}\n",
    "\n",
    "                ## Description\n",
    "                {description}\n",
    "\n",
    "                ## Tactics\n",
    "                {', '.join(tactics)}\n",
    "\n",
    "                ## Platforms\n",
    "                {', '.join(platforms)}\n",
    "\n",
    "                ## Detection\n",
    "                {detection}\n",
    "\n",
    "                ## Data Sources\n",
    "                {', '.join(data_sources)}\n",
    "                \"\"\"\n",
    "\n",
    "            doc = Document(\n",
    "                page_content=content,\n",
    "                metadata={\n",
    "                    \"type\": \"MITRE_ATTACK\",\n",
    "                    \"technique_id\": technique_id,\n",
    "                    \"name\": name,\n",
    "                    \"tactics\": tactics,\n",
    "                },\n",
    "                id=str(i+799),\n",
    "            )\n",
    "\n",
    "            documents.append(doc)\n",
    "            ids.append(str(i+799))\n",
    "\n",
    "    return [documents, ids]"
   ]
  },
  {
   "cell_type": "code",
   "execution_count": 24,
   "id": "32e8cc72",
   "metadata": {},
   "outputs": [
    {
     "name": "stdout",
     "output_type": "stream",
     "text": [
      "Loading MITRE ATT&CK data...\n",
      "Processed 95 MITRE ATT&CK techniques\n",
      "Generating embeddings...\n"
     ]
    }
   ],
   "source": [
    "from services.ollama_service import *\n",
    "\n",
    "# Initialize and get documents\n",
    "\n",
    "\n",
    "documents, ids = initialize_attack_db(\"mitre_data/ics-attack.json\")\n",
    "\n",
    "\n",
    "print(f\"Processed {len(documents)} MITRE ATT&CK techniques\")\n",
    "\n",
    "\n",
    "\n",
    "# Generate embeddings\n",
    "\n",
    "\n",
    "print(\"Generating embeddings...\")\n",
    "\n",
    "\n",
    "embeddings = generate_embeddings(documents)"
   ]
  },
  {
   "cell_type": "code",
   "execution_count": 19,
   "id": "a1c52cb5",
   "metadata": {},
   "outputs": [
    {
     "name": "stdout",
     "output_type": "stream",
     "text": [
      "['893', '894', '895', '896', '897', '898', '899', '900', '901', '902', '903', '904', '905', '906', '907', '908', '909', '910', '911', '912', '913', '914', '915', '916', '917', '918', '919', '920', '921', '922', '923', '924', '925', '926', '927', '928', '929', '930', '931', '932', '933', '934', '935', '936', '937', '938', '939', '940', '941', '942', '943', '944', '945', '946', '947', '948', '949', '950', '951', '952', '953', '954', '955', '956', '957', '958', '959', '960', '961', '962', '963', '964', '965', '966', '967', '968', '969', '970', '971', '972', '973', '974', '975', '976', '977', '978', '979', '980', '981', '982', '983', '984', '985', '986', '987']\n"
     ]
    }
   ],
   "source": [
    "print(ids)"
   ]
  },
  {
   "cell_type": "code",
   "execution_count": 25,
   "id": "431e148a",
   "metadata": {},
   "outputs": [
    {
     "name": "stdout",
     "output_type": "stream",
     "text": [
      "Storing in Qdrant...\n",
      "Successfully stored 95 MITRE ATT&CK techniques in Qdrant\n",
      "MITRE ATT&CK vector database initialized successfully!\n"
     ]
    }
   ],
   "source": [
    "from services.qdrant_service import *\n",
    "# Check if the environment variable exists\n",
    "from qdrant_client import QdrantClient\n",
    "\n",
    "qdrant_url = os.environ.get(\"QDRANT_URL\")\n",
    "qdrant_api_key = os.environ.get(\"QDRANT_API_KEY\")\n",
    "\n",
    "qdrant_client = QdrantClient(\n",
    "    url=qdrant_url,\n",
    "    api_key=qdrant_api_key,\n",
    ")\n",
    "\n",
    "\n",
    "# # Store in Qdrant\n",
    "\n",
    "\n",
    "print(\"Storing in Qdrant...\")\n",
    "\n",
    "\n",
    "ids = [int(x) for x in ids]  # Convert IDs to integers\n",
    "\n",
    "\n",
    "store_in_qdrant(documents, embeddings, ids, qdrant_client, 'mitre-attack-nomic')\n",
    "\n",
    "\n",
    "\n",
    "print(\"MITRE ATT&CK vector database initialized successfully!\")"
   ]
  }
 ],
 "metadata": {
  "kernelspec": {
   "display_name": "Python 3",
   "language": "python",
   "name": "python3"
  },
  "language_info": {
   "codemirror_mode": {
    "name": "ipython",
    "version": 3
   },
   "file_extension": ".py",
   "mimetype": "text/x-python",
   "name": "python",
   "nbconvert_exporter": "python",
   "pygments_lexer": "ipython3",
   "version": "3.13.2"
  }
 },
 "nbformat": 4,
 "nbformat_minor": 5
}
