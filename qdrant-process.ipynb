{
 "cells": [
  {
   "cell_type": "code",
   "execution_count": 7,
   "id": "07cf996e",
   "metadata": {},
   "outputs": [],
   "source": [
    "import os\n",
    "import json\n",
    "from langchain_core.documents import Document\n",
    "from mem0 import MemoryClient\n",
    "from utils.utils import *"
   ]
  },
  {
   "cell_type": "code",
   "execution_count": 8,
   "id": "f2a04eff",
   "metadata": {},
   "outputs": [],
   "source": [
    "# Get the API key from environment variables\n",
    "os.environ[\"MEM0_API_KEY\"] = os.environ.get(\"MEM0_API_KEY\")\n",
    "os.environ[\"OPENAI_API_KEY\"] = os.environ.get(\"OPENAI_API_KEY\")\n",
    "\n",
    "mem0_client = MemoryClient()"
   ]
  },
  {
   "cell_type": "code",
   "execution_count": 9,
   "id": "48238e54",
   "metadata": {},
   "outputs": [],
   "source": [
    "mem0_collection: str = \"mitre_attack\""
   ]
  },
  {
   "cell_type": "code",
   "execution_count": 10,
   "id": "da31dcfc",
   "metadata": {},
   "outputs": [],
   "source": [
    "def initialize_attack_db(attack_data_path):\n",
    "    \"\"\"Initialize the MITRE ATT&CK vector database\"\"\"\n",
    "\n",
    "    print(\"Loading MITRE ATT&CK data...\")\n",
    "\n",
    "    with open(attack_data_path, \"r\") as f:\n",
    "\n",
    "        attack_data = json.load(f)\n",
    "\n",
    "    documents = []\n",
    "    ids = []\n",
    "\n",
    "    for i, technique in enumerate(attack_data.get(\"objects\", [])):\n",
    "\n",
    "        if technique.get(\"type\") == \"attack-pattern\":\n",
    "\n",
    "            technique_id = technique.get(\"external_references\", [{}])[0].get(\n",
    "                \"external_id\", \"\"\n",
    "            )\n",
    "\n",
    "            if not technique_id.startswith(\"T\"):\n",
    "                continue\n",
    "\n",
    "            name = technique.get(\"name\", \"\")\n",
    "            description = technique.get(\"description\", \"\")\n",
    "            tactics = [\n",
    "                phase[\"phase_name\"] for phase in technique.get(\"kill_chain_phases\", [])\n",
    "            ]\n",
    "            platforms = technique.get(\"x_mitre_platforms\", [])\n",
    "            detection = technique.get(\"x_mitre_detection\", \"\")\n",
    "            data_sources = technique.get(\"x_mitre_data_sources\", [])\n",
    "\n",
    "            name = clean_text(name)\n",
    "            description = clean_text(description)\n",
    "            detection = clean_text(detection)\n",
    "\n",
    "            content = f\"\"\"\n",
    "                # {technique_id}: {name}\n",
    "\n",
    "                ## Description\n",
    "                {description}\n",
    "\n",
    "                ## Tactics\n",
    "                {', '.join(tactics)}\n",
    "\n",
    "                ## Platforms\n",
    "                {', '.join(platforms)}\n",
    "\n",
    "                ## Detection\n",
    "                {detection}\n",
    "\n",
    "                ## Data Sources\n",
    "                {', '.join(data_sources)}\n",
    "                \"\"\"\n",
    "\n",
    "            doc = Document(\n",
    "                page_content=content,\n",
    "                metadata={\n",
    "                    \"type\": \"MITRE_ATTACK\",\n",
    "                    \"technique_id\": technique_id,\n",
    "                    \"name\": name,\n",
    "                    \"tactics\": tactics,\n",
    "                },\n",
    "                id=str(i),\n",
    "            )\n",
    "\n",
    "            documents.append(doc)\n",
    "            ids.append(str(i))\n",
    "\n",
    "    return [documents, ids]"
   ]
  },
  {
   "cell_type": "code",
   "execution_count": null,
   "id": "32e8cc72",
   "metadata": {},
   "outputs": [
    {
     "name": "stdout",
     "output_type": "stream",
     "text": [
      "Loading MITRE ATT&CK data...\n",
      "Processed 799 MITRE ATT&CK techniques\n",
      "Generating embeddings...\n"
     ]
    }
   ],
   "source": [
    "from services.ollama_service import *\n",
    "\n",
    "# Initialize and get documents\n",
    "\n",
    "\n",
    "documents, ids = initialize_attack_db(\"mitre_data/enterprise-attack.json\")\n",
    "\n",
    "\n",
    "print(f\"Processed {len(documents)} MITRE ATT&CK techniques\")\n",
    "\n",
    "\n",
    "\n",
    "# Generate embeddings\n",
    "\n",
    "\n",
    "print(\"Generating embeddings...\")\n",
    "\n",
    "\n",
    "embeddings = generate_embeddings(documents)"
   ]
  },
  {
   "cell_type": "code",
   "execution_count": 12,
   "id": "431e148a",
   "metadata": {},
   "outputs": [
    {
     "name": "stdout",
     "output_type": "stream",
     "text": [
      "Storing in Qdrant...\n",
      "Successfully stored 799 MITRE ATT&CK techniques in Qdrant\n",
      "MITRE ATT&CK vector database initialized successfully!\n"
     ]
    }
   ],
   "source": [
    "from services.qdrant_service import *\n",
    "# Check if the environment variable exists\n",
    "from qdrant_client import QdrantClient\n",
    "\n",
    "qdrant_url = os.environ.get(\"QDRANT_URL\")\n",
    "qdrant_api_key = os.environ.get(\"QDRANT_API_KEY\")\n",
    "\n",
    "qdrant_client = QdrantClient(\n",
    "    url=qdrant_url,\n",
    "    api_key=qdrant_api_key,\n",
    ")\n",
    "\n",
    "\n",
    "# # Store in Qdrant\n",
    "\n",
    "\n",
    "print(\"Storing in Qdrant...\")\n",
    "\n",
    "\n",
    "ids = [int(x) for x in ids]  # Convert IDs to integers\n",
    "\n",
    "\n",
    "store_in_qdrant(documents, embeddings, ids, qdrant_client, 'mitre-attack-nomic')\n",
    "\n",
    "\n",
    "\n",
    "print(\"MITRE ATT&CK vector database initialized successfully!\")"
   ]
  }
 ],
 "metadata": {
  "kernelspec": {
   "display_name": "Python 3",
   "language": "python",
   "name": "python3"
  },
  "language_info": {
   "codemirror_mode": {
    "name": "ipython",
    "version": 3
   },
   "file_extension": ".py",
   "mimetype": "text/x-python",
   "name": "python",
   "nbconvert_exporter": "python",
   "pygments_lexer": "ipython3",
   "version": "3.13.2"
  }
 },
 "nbformat": 4,
 "nbformat_minor": 5
}
